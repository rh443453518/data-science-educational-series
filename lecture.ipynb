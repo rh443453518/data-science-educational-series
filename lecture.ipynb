{
 "cells": [
  {
   "cell_type": "markdown",
   "metadata": {},
   "source": [
    "# Machine Learning - basics of model selection\n",
    "\n",
    "## What is Machine Learning?\n",
    "\n",
    "According to wikipedia, machine learning is a field evolved out of **pattern recognition** and **Computational Learning Theory**  \n",
    "We as data scientists are especially interested in the **former** function. "
   ]
  },
  {
   "cell_type": "markdown",
   "metadata": {},
   "source": [
    "### Things we will learn in this lesson\n",
    "1. Training/Test split\n",
    "2. Methods of Cross validating and why cross-validation as opposed to conventional validation\n",
    "3. Importance of data visualization and pre-analysis of data\n",
    "4. Model Selection Process\n"
   ]
  },
  {
   "cell_type": "code",
   "execution_count": 3,
   "metadata": {
    "collapsed": false
   },
   "outputs": [
    {
     "name": "stderr",
     "output_type": "stream",
     "text": [
      "Installing package into 'C:/Users/Dae Won Kim/Documents/R/win-library/3.3'\n",
      "(as 'lib' is unspecified)\n"
     ]
    },
    {
     "name": "stdout",
     "output_type": "stream",
     "text": [
      "package 'ggvis' successfully unpacked and MD5 sums checked\n",
      "\n",
      "The downloaded binary packages are in\n",
      "\tC:\\Users\\Dae Won Kim\\AppData\\Local\\Temp\\RtmpWGejTy\\downloaded_packages\n"
     ]
    },
    {
     "name": "stderr",
     "output_type": "stream",
     "text": [
      "Installing package into 'C:/Users/Dae Won Kim/Documents/R/win-library/3.3'\n",
      "(as 'lib' is unspecified)\n"
     ]
    },
    {
     "name": "stdout",
     "output_type": "stream",
     "text": [
      "package 'caret' successfully unpacked and MD5 sums checked\n",
      "\n",
      "The downloaded binary packages are in\n",
      "\tC:\\Users\\Dae Won Kim\\AppData\\Local\\Temp\\RtmpWGejTy\\downloaded_packages\n"
     ]
    },
    {
     "name": "stderr",
     "output_type": "stream",
     "text": [
      "Installing package into 'C:/Users/Dae Won Kim/Documents/R/win-library/3.3'\n",
      "(as 'lib' is unspecified)\n"
     ]
    },
    {
     "name": "stdout",
     "output_type": "stream",
     "text": [
      "package 'class' successfully unpacked and MD5 sums checked\n",
      "\n",
      "The downloaded binary packages are in\n",
      "\tC:\\Users\\Dae Won Kim\\AppData\\Local\\Temp\\RtmpWGejTy\\downloaded_packages\n"
     ]
    }
   ],
   "source": [
    "# Packages used is ggvis (for visualization) and\n",
    "# caret (for creating partitions\n",
    "# class (for using KNN, as we will see later)\n",
    "# Important to specify the repos parameter on Jupyter notebook\n",
    "\n",
    "install.packages(\"ggvis\", repos = 'http://cran.us.r-project.org')\n",
    "install.packages(\"caret\", repos = 'http://cran.us.r-project.org')\n",
    "install.packages(\"class\", repos = 'http://cran.us.r-project.org')"
   ]
  },
  {
   "cell_type": "code",
   "execution_count": 4,
   "metadata": {
    "collapsed": false,
    "scrolled": true
   },
   "outputs": [
    {
     "name": "stderr",
     "output_type": "stream",
     "text": [
      "Loading required package: lattice\n",
      "Loading required package: ggplot2\n",
      "\n",
      "Attaching package: 'ggplot2'\n",
      "\n",
      "The following object is masked from 'package:ggvis':\n",
      "\n",
      "    resolution\n",
      "\n"
     ]
    }
   ],
   "source": [
    "# Good coding practice to use library instead of require\n",
    "\n",
    "library(ggvis)\n",
    "library(caret)\n",
    "library(class)"
   ]
  },
  {
   "cell_type": "code",
   "execution_count": 5,
   "metadata": {
    "collapsed": false
   },
   "outputs": [
    {
     "data": {
      "text/plain": [
       "  Sepal.Length    Sepal.Width     Petal.Length    Petal.Width   \n",
       " Min.   :4.300   Min.   :2.000   Min.   :1.000   Min.   :0.100  \n",
       " 1st Qu.:5.100   1st Qu.:2.800   1st Qu.:1.600   1st Qu.:0.300  \n",
       " Median :5.800   Median :3.000   Median :4.350   Median :1.300  \n",
       " Mean   :5.843   Mean   :3.057   Mean   :3.758   Mean   :1.199  \n",
       " 3rd Qu.:6.400   3rd Qu.:3.300   3rd Qu.:5.100   3rd Qu.:1.800  \n",
       " Max.   :7.900   Max.   :4.400   Max.   :6.900   Max.   :2.500  \n",
       "       Species  \n",
       " setosa    :50  \n",
       " versicolor:50  \n",
       " virginica :50  \n",
       "                \n",
       "                \n",
       "                "
      ]
     },
     "metadata": {},
     "output_type": "display_data"
    },
    {
     "data": {
      "image/png": "[encoded data removed]",
      "text/plain": [
       "Plot with title \"first two features\""
      ]
     },
     "metadata": {
      "image/svg+xml": {
       "isolated": true
      }
     },
     "output_type": "display_data"
    },
    {
     "data": {
      "image/png": "[encoded data removed]",
      "text/plain": [
       "Plot with title \"last two features\""
      ]
     },
     "metadata": {
      "image/svg+xml": {
       "isolated": true
      }
     },
     "output_type": "display_data"
    }
   ],
   "source": [
    "# let's see what the data is like before we do any sort of machine learning!\n",
    "dat <- iris\n",
    "\n",
    "summary(dat)\n",
    "plot(dat$Sepal.Length, dat$Sepal.Width, main = \"first two features\")\n",
    "plot(dat$Petal.Length, dat$Petal.Width, main = \"last two features\")"
   ]
  },
  {
   "cell_type": "markdown",
   "metadata": {},
   "source": [
    "### **Notable features**\n",
    "1. Each species represents 1/3 of the data\n",
    "2. There is two separate clusters\n",
    "3. The first two features are related, and the same for third and fourth features\n",
    "\n",
    "### Our goal: predict the species.\n",
    "so let's look at how the species distribution is made by using ggvis!"
   ]
  },
  {
   "cell_type": "code",
   "execution_count": 6,
   "metadata": {
    "collapsed": true
   },
   "outputs": [],
   "source": [
    "# Plot the data using ggvis\n",
    "first_plot <- ggvis(iris, x= ~Sepal.Length, y = ~Sepal.Width, fill = ~Species)\n",
    "layer_points(first_plot)\n",
    "\n",
    "second_plot <- ggvis(iris, x = ~Petal.Length, ~Petal.Width, fill = ~Species)\n",
    "layer_points(second_plot)"
   ]
  },
  {
   "cell_type": "markdown",
   "metadata": {},
   "source": [
    "### **New observations**\n",
    "1. Setosa is clearly separable from the other two\n",
    "2. The rest is not cleanly separated\n",
    "\n",
    "## **So now let's dive into actual machine learning!**\n",
    "\n",
    "### Step 1 : Divide data into training and test                         -  **why? and where do we divide?**\n",
    "### Step 2 : Check if both train and test is a good sample    -  ** why?**\n",
    "### Step 3 : Validate your training model                                 -  **why?, why not conventional validation?**\n",
    "    1. exhasutive cross validation\n",
    "    2. non-exhaustive cross validation\n",
    "### Step 4 : Select parameter value that is most robust         - **why?**\n",
    "### Step 5 : Train your learner and produce results.\n",
    "### Step 6 : Select model that best fits your assumptions, *NOT ALWAYS WHAT IS MOST ACCURATE*\n"
   ]
  },
  {
   "cell_type": "code",
   "execution_count": 7,
   "metadata": {
    "collapsed": true
   },
   "outputs": [],
   "source": [
    "# Step 1: divide the data into training and test set by randomly choosing 20% of the data as test (why 20? or why not 20?)\n",
    "ind   <- sample(nrow(dat), (nrow(dat)*0.2))\n",
    "train <- dat[-ind,]\n",
    "test  <- dat[ind,]\n",
    "\n",
    "# Step 2: visualize to check if good representation\n",
    "layer_points(ggvis(train, x= ~Sepal.Length, y = ~Sepal.Width, fill = ~Species))\n",
    "layer_points(ggvis(test, x = ~Sepal.Length, y = ~Sepal.Width, fill = ~Species))"
   ]
  },
  {
   "cell_type": "code",
   "execution_count": 9,
   "metadata": {
    "collapsed": false
   },
   "outputs": [],
   "source": [
    "#Step 3 Validate your data\n",
    "\n",
    "# Non-Exhaustive 10-fold cross validation \n",
    "kfoldknn <- function(x){\n",
    "  partition  <- createFolds(c(1:nrow(train)), k = 10)  # createFolds is a caret package function that creates partitions!\n",
    "  prediction <- vector(mode=\"character\",length= nrow(train))\n",
    "  accuracy   <- vector(length = 10)\n",
    "    \n",
    "  for(i in 1:10){\n",
    "    val_set                <- train[partition[[i]],]\n",
    "    val_train              <- train[-partition[[i]],]\n",
    "    prediction[partition[[i]]] <- as.character(knn(train = val_train[,1:4], test = val_set[,1:4], cl= val_train[,5], k = x))\n",
    "    accuracy[i]            <- mean(prediction[partition[[i]]]==val_set[,5])     # R conveniently evaluates booleans as if numeric\n",
    "  }\n",
    "  return(mean(accuracy))\n",
    "}\n",
    "\n",
    "# Built-in function for leave-one-out cross-validation.\n",
    "acc <- vector(length = (nrow(train)-1))\n",
    "for( i in 1:(nrow(train)-1)){\n",
    "  acc[i] <- mean(train[,5]== knn.cv(train = train[,1:4], cl = train[,5], k=i ))\n",
    "}"
   ]
  },
  {
   "cell_type": "code",
   "execution_count": 19,
   "metadata": {
    "collapsed": false
   },
   "outputs": [
    {
     "name": "stderr",
     "output_type": "stream",
     "text": [
      "Warning message:\n",
      "In knn(train = val_train[, 1:4], test = val_set[, 1:4], cl = val_train[, : k = 109 exceeds number 108 of patternsWarning message:\n",
      "In knn(train = val_train[, 1:4], test = val_set[, 1:4], cl = val_train[, : k = 109 exceeds number 108 of patternsWarning message:\n",
      "In knn(train = val_train[, 1:4], test = val_set[, 1:4], cl = val_train[, : k = 109 exceeds number 108 of patternsWarning message:\n",
      "In knn(train = val_train[, 1:4], test = val_set[, 1:4], cl = val_train[, : k = 109 exceeds number 108 of patternsWarning message:\n",
      "In knn(train = val_train[, 1:4], test = val_set[, 1:4], cl = val_train[, : k = 109 exceeds number 108 of patternsWarning message:\n",
      "In knn(train = val_train[, 1:4], test = val_set[, 1:4], cl = val_train[, : k = 109 exceeds number 108 of patternsWarning message:\n",
      "In knn(train = val_train[, 1:4], test = val_set[, 1:4], cl = val_train[, : k = 109 exceeds number 108 of patternsWarning message:\n",
      "In knn(train = val_train[, 1:4], test = val_set[, 1:4], cl = val_train[, : k = 109 exceeds number 108 of patternsWarning message:\n",
      "In knn(train = val_train[, 1:4], test = val_set[, 1:4], cl = val_train[, : k = 109 exceeds number 108 of patternsWarning message:\n",
      "In knn(train = val_train[, 1:4], test = val_set[, 1:4], cl = val_train[, : k = 109 exceeds number 108 of patternsWarning message:\n",
      "In knn(train = val_train[, 1:4], test = val_set[, 1:4], cl = val_train[, : k = 110 exceeds number 108 of patternsWarning message:\n",
      "In knn(train = val_train[, 1:4], test = val_set[, 1:4], cl = val_train[, : k = 110 exceeds number 108 of patternsWarning message:\n",
      "In knn(train = val_train[, 1:4], test = val_set[, 1:4], cl = val_train[, : k = 110 exceeds number 108 of patternsWarning message:\n",
      "In knn(train = val_train[, 1:4], test = val_set[, 1:4], cl = val_train[, : k = 110 exceeds number 108 of patternsWarning message:\n",
      "In knn(train = val_train[, 1:4], test = val_set[, 1:4], cl = val_train[, : k = 110 exceeds number 108 of patternsWarning message:\n",
      "In knn(train = val_train[, 1:4], test = val_set[, 1:4], cl = val_train[, : k = 110 exceeds number 108 of patternsWarning message:\n",
      "In knn(train = val_train[, 1:4], test = val_set[, 1:4], cl = val_train[, : k = 110 exceeds number 108 of patternsWarning message:\n",
      "In knn(train = val_train[, 1:4], test = val_set[, 1:4], cl = val_train[, : k = 110 exceeds number 108 of patternsWarning message:\n",
      "In knn(train = val_train[, 1:4], test = val_set[, 1:4], cl = val_train[, : k = 110 exceeds number 108 of patternsWarning message:\n",
      "In knn(train = val_train[, 1:4], test = val_set[, 1:4], cl = val_train[, : k = 110 exceeds number 108 of patternsWarning message:\n",
      "In knn(train = val_train[, 1:4], test = val_set[, 1:4], cl = val_train[, : k = 111 exceeds number 108 of patternsWarning message:\n",
      "In knn(train = val_train[, 1:4], test = val_set[, 1:4], cl = val_train[, : k = 111 exceeds number 108 of patternsWarning message:\n",
      "In knn(train = val_train[, 1:4], test = val_set[, 1:4], cl = val_train[, : k = 111 exceeds number 108 of patternsWarning message:\n",
      "In knn(train = val_train[, 1:4], test = val_set[, 1:4], cl = val_train[, : k = 111 exceeds number 108 of patternsWarning message:\n",
      "In knn(train = val_train[, 1:4], test = val_set[, 1:4], cl = val_train[, : k = 111 exceeds number 108 of patternsWarning message:\n",
      "In knn(train = val_train[, 1:4], test = val_set[, 1:4], cl = val_train[, : k = 111 exceeds number 108 of patternsWarning message:\n",
      "In knn(train = val_train[, 1:4], test = val_set[, 1:4], cl = val_train[, : k = 111 exceeds number 108 of patternsWarning message:\n",
      "In knn(train = val_train[, 1:4], test = val_set[, 1:4], cl = val_train[, : k = 111 exceeds number 108 of patternsWarning message:\n",
      "In knn(train = val_train[, 1:4], test = val_set[, 1:4], cl = val_train[, : k = 111 exceeds number 108 of patternsWarning message:\n",
      "In knn(train = val_train[, 1:4], test = val_set[, 1:4], cl = val_train[, : k = 111 exceeds number 108 of patternsWarning message:\n",
      "In knn(train = val_train[, 1:4], test = val_set[, 1:4], cl = val_train[, : k = 112 exceeds number 108 of patternsWarning message:\n",
      "In knn(train = val_train[, 1:4], test = val_set[, 1:4], cl = val_train[, : k = 112 exceeds number 108 of patternsWarning message:\n",
      "In knn(train = val_train[, 1:4], test = val_set[, 1:4], cl = val_train[, : k = 112 exceeds number 108 of patternsWarning message:\n",
      "In knn(train = val_train[, 1:4], test = val_set[, 1:4], cl = val_train[, : k = 112 exceeds number 108 of patternsWarning message:\n",
      "In knn(train = val_train[, 1:4], test = val_set[, 1:4], cl = val_train[, : k = 112 exceeds number 108 of patternsWarning message:\n",
      "In knn(train = val_train[, 1:4], test = val_set[, 1:4], cl = val_train[, : k = 112 exceeds number 108 of patternsWarning message:\n",
      "In knn(train = val_train[, 1:4], test = val_set[, 1:4], cl = val_train[, : k = 112 exceeds number 108 of patternsWarning message:\n",
      "In knn(train = val_train[, 1:4], test = val_set[, 1:4], cl = val_train[, : k = 112 exceeds number 108 of patternsWarning message:\n",
      "In knn(train = val_train[, 1:4], test = val_set[, 1:4], cl = val_train[, : k = 112 exceeds number 108 of patternsWarning message:\n",
      "In knn(train = val_train[, 1:4], test = val_set[, 1:4], cl = val_train[, : k = 112 exceeds number 108 of patternsWarning message:\n",
      "In knn(train = val_train[, 1:4], test = val_set[, 1:4], cl = val_train[, : k = 113 exceeds number 108 of patternsWarning message:\n",
      "In knn(train = val_train[, 1:4], test = val_set[, 1:4], cl = val_train[, : k = 113 exceeds number 108 of patternsWarning message:\n",
      "In knn(train = val_train[, 1:4], test = val_set[, 1:4], cl = val_train[, : k = 113 exceeds number 108 of patternsWarning message:\n",
      "In knn(train = val_train[, 1:4], test = val_set[, 1:4], cl = val_train[, : k = 113 exceeds number 108 of patternsWarning message:\n",
      "In knn(train = val_train[, 1:4], test = val_set[, 1:4], cl = val_train[, : k = 113 exceeds number 108 of patternsWarning message:\n",
      "In knn(train = val_train[, 1:4], test = val_set[, 1:4], cl = val_train[, : k = 113 exceeds number 108 of patternsWarning message:\n",
      "In knn(train = val_train[, 1:4], test = val_set[, 1:4], cl = val_train[, : k = 113 exceeds number 108 of patternsWarning message:\n",
      "In knn(train = val_train[, 1:4], test = val_set[, 1:4], cl = val_train[, : k = 113 exceeds number 108 of patternsWarning message:\n",
      "In knn(train = val_train[, 1:4], test = val_set[, 1:4], cl = val_train[, : k = 113 exceeds number 108 of patternsWarning message:\n",
      "In knn(train = val_train[, 1:4], test = val_set[, 1:4], cl = val_train[, : k = 113 exceeds number 108 of patternsWarning message:\n",
      "In knn(train = val_train[, 1:4], test = val_set[, 1:4], cl = val_train[, : k = 114 exceeds number 108 of patternsWarning message:\n",
      "In knn(train = val_train[, 1:4], test = val_set[, 1:4], cl = val_train[, : k = 114 exceeds number 108 of patternsWarning message:\n",
      "In knn(train = val_train[, 1:4], test = val_set[, 1:4], cl = val_train[, : k = 114 exceeds number 108 of patternsWarning message:\n",
      "In knn(train = val_train[, 1:4], test = val_set[, 1:4], cl = val_train[, : k = 114 exceeds number 108 of patternsWarning message:\n",
      "In knn(train = val_train[, 1:4], test = val_set[, 1:4], cl = val_train[, : k = 114 exceeds number 108 of patternsWarning message:\n",
      "In knn(train = val_train[, 1:4], test = val_set[, 1:4], cl = val_train[, : k = 114 exceeds number 108 of patternsWarning message:\n",
      "In knn(train = val_train[, 1:4], test = val_set[, 1:4], cl = val_train[, : k = 114 exceeds number 108 of patternsWarning message:\n",
      "In knn(train = val_train[, 1:4], test = val_set[, 1:4], cl = val_train[, : k = 114 exceeds number 108 of patternsWarning message:\n",
      "In knn(train = val_train[, 1:4], test = val_set[, 1:4], cl = val_train[, : k = 114 exceeds number 108 of patternsWarning message:\n",
      "In knn(train = val_train[, 1:4], test = val_set[, 1:4], cl = val_train[, : k = 114 exceeds number 108 of patternsWarning message:\n",
      "In knn(train = val_train[, 1:4], test = val_set[, 1:4], cl = val_train[, : k = 115 exceeds number 108 of patternsWarning message:\n",
      "In knn(train = val_train[, 1:4], test = val_set[, 1:4], cl = val_train[, : k = 115 exceeds number 108 of patternsWarning message:\n",
      "In knn(train = val_train[, 1:4], test = val_set[, 1:4], cl = val_train[, : k = 115 exceeds number 108 of patternsWarning message:\n",
      "In knn(train = val_train[, 1:4], test = val_set[, 1:4], cl = val_train[, : k = 115 exceeds number 108 of patternsWarning message:\n",
      "In knn(train = val_train[, 1:4], test = val_set[, 1:4], cl = val_train[, : k = 115 exceeds number 108 of patternsWarning message:\n",
      "In knn(train = val_train[, 1:4], test = val_set[, 1:4], cl = val_train[, : k = 115 exceeds number 108 of patternsWarning message:\n",
      "In knn(train = val_train[, 1:4], test = val_set[, 1:4], cl = val_train[, : k = 115 exceeds number 108 of patternsWarning message:\n",
      "In knn(train = val_train[, 1:4], test = val_set[, 1:4], cl = val_train[, : k = 115 exceeds number 108 of patternsWarning message:\n",
      "In knn(train = val_train[, 1:4], test = val_set[, 1:4], cl = val_train[, : k = 115 exceeds number 108 of patternsWarning message:\n",
      "In knn(train = val_train[, 1:4], test = val_set[, 1:4], cl = val_train[, : k = 115 exceeds number 108 of patternsWarning message:\n",
      "In knn(train = val_train[, 1:4], test = val_set[, 1:4], cl = val_train[, : k = 116 exceeds number 108 of patternsWarning message:\n",
      "In knn(train = val_train[, 1:4], test = val_set[, 1:4], cl = val_train[, : k = 116 exceeds number 108 of patternsWarning message:\n",
      "In knn(train = val_train[, 1:4], test = val_set[, 1:4], cl = val_train[, : k = 116 exceeds number 108 of patternsWarning message:\n",
      "In knn(train = val_train[, 1:4], test = val_set[, 1:4], cl = val_train[, : k = 116 exceeds number 108 of patternsWarning message:\n",
      "In knn(train = val_train[, 1:4], test = val_set[, 1:4], cl = val_train[, : k = 116 exceeds number 108 of patternsWarning message:\n",
      "In knn(train = val_train[, 1:4], test = val_set[, 1:4], cl = val_train[, : k = 116 exceeds number 108 of patternsWarning message:\n",
      "In knn(train = val_train[, 1:4], test = val_set[, 1:4], cl = val_train[, : k = 116 exceeds number 108 of patternsWarning message:\n",
      "In knn(train = val_train[, 1:4], test = val_set[, 1:4], cl = val_train[, : k = 116 exceeds number 108 of patternsWarning message:\n",
      "In knn(train = val_train[, 1:4], test = val_set[, 1:4], cl = val_train[, : k = 116 exceeds number 108 of patternsWarning message:\n",
      "In knn(train = val_train[, 1:4], test = val_set[, 1:4], cl = val_train[, : k = 116 exceeds number 108 of patternsWarning message:\n",
      "In knn(train = val_train[, 1:4], test = val_set[, 1:4], cl = val_train[, : k = 117 exceeds number 108 of patternsWarning message:\n",
      "In knn(train = val_train[, 1:4], test = val_set[, 1:4], cl = val_train[, : k = 117 exceeds number 108 of patternsWarning message:\n",
      "In knn(train = val_train[, 1:4], test = val_set[, 1:4], cl = val_train[, : k = 117 exceeds number 108 of patternsWarning message:\n",
      "In knn(train = val_train[, 1:4], test = val_set[, 1:4], cl = val_train[, : k = 117 exceeds number 108 of patternsWarning message:\n",
      "In knn(train = val_train[, 1:4], test = val_set[, 1:4], cl = val_train[, : k = 117 exceeds number 108 of patternsWarning message:\n",
      "In knn(train = val_train[, 1:4], test = val_set[, 1:4], cl = val_train[, : k = 117 exceeds number 108 of patternsWarning message:\n",
      "In knn(train = val_train[, 1:4], test = val_set[, 1:4], cl = val_train[, : k = 117 exceeds number 108 of patternsWarning message:\n",
      "In knn(train = val_train[, 1:4], test = val_set[, 1:4], cl = val_train[, : k = 117 exceeds number 108 of patternsWarning message:\n",
      "In knn(train = val_train[, 1:4], test = val_set[, 1:4], cl = val_train[, : k = 117 exceeds number 108 of patternsWarning message:\n",
      "In knn(train = val_train[, 1:4], test = val_set[, 1:4], cl = val_train[, : k = 117 exceeds number 108 of patternsWarning message:\n",
      "In knn(train = val_train[, 1:4], test = val_set[, 1:4], cl = val_train[, : k = 118 exceeds number 108 of patternsWarning message:\n",
      "In knn(train = val_train[, 1:4], test = val_set[, 1:4], cl = val_train[, : k = 118 exceeds number 108 of patternsWarning message:\n",
      "In knn(train = val_train[, 1:4], test = val_set[, 1:4], cl = val_train[, : k = 118 exceeds number 108 of patternsWarning message:\n",
      "In knn(train = val_train[, 1:4], test = val_set[, 1:4], cl = val_train[, : k = 118 exceeds number 108 of patternsWarning message:\n",
      "In knn(train = val_train[, 1:4], test = val_set[, 1:4], cl = val_train[, : k = 118 exceeds number 108 of patternsWarning message:\n",
      "In knn(train = val_train[, 1:4], test = val_set[, 1:4], cl = val_train[, : k = 118 exceeds number 108 of patternsWarning message:\n",
      "In knn(train = val_train[, 1:4], test = val_set[, 1:4], cl = val_train[, : k = 118 exceeds number 108 of patternsWarning message:\n",
      "In knn(train = val_train[, 1:4], test = val_set[, 1:4], cl = val_train[, : k = 118 exceeds number 108 of patternsWarning message:\n",
      "In knn(train = val_train[, 1:4], test = val_set[, 1:4], cl = val_train[, : k = 118 exceeds number 108 of patternsWarning message:\n",
      "In knn(train = val_train[, 1:4], test = val_set[, 1:4], cl = val_train[, : k = 118 exceeds number 108 of patternsWarning message:\n",
      "In knn(train = val_train[, 1:4], test = val_set[, 1:4], cl = val_train[, : k = 119 exceeds number 108 of patternsWarning message:\n",
      "In knn(train = val_train[, 1:4], test = val_set[, 1:4], cl = val_train[, : k = 119 exceeds number 108 of patternsWarning message:\n",
      "In knn(train = val_train[, 1:4], test = val_set[, 1:4], cl = val_train[, : k = 119 exceeds number 108 of patternsWarning message:\n",
      "In knn(train = val_train[, 1:4], test = val_set[, 1:4], cl = val_train[, : k = 119 exceeds number 108 of patternsWarning message:\n",
      "In knn(train = val_train[, 1:4], test = val_set[, 1:4], cl = val_train[, : k = 119 exceeds number 108 of patternsWarning message:\n",
      "In knn(train = val_train[, 1:4], test = val_set[, 1:4], cl = val_train[, : k = 119 exceeds number 108 of patternsWarning message:\n",
      "In knn(train = val_train[, 1:4], test = val_set[, 1:4], cl = val_train[, : k = 119 exceeds number 108 of patternsWarning message:\n",
      "In knn(train = val_train[, 1:4], test = val_set[, 1:4], cl = val_train[, : k = 119 exceeds number 108 of patternsWarning message:\n",
      "In knn(train = val_train[, 1:4], test = val_set[, 1:4], cl = val_train[, : k = 119 exceeds number 108 of patternsWarning message:\n",
      "In knn(train = val_train[, 1:4], test = val_set[, 1:4], cl = val_train[, : k = 119 exceeds number 108 of patternsWarning message:\n",
      "In knn(train = val_train[, 1:4], test = val_set[, 1:4], cl = val_train[, : k = 120 exceeds number 108 of patternsWarning message:\n",
      "In knn(train = val_train[, 1:4], test = val_set[, 1:4], cl = val_train[, : k = 120 exceeds number 108 of patternsWarning message:\n",
      "In knn(train = val_train[, 1:4], test = val_set[, 1:4], cl = val_train[, : k = 120 exceeds number 108 of patternsWarning message:\n",
      "In knn(train = val_train[, 1:4], test = val_set[, 1:4], cl = val_train[, : k = 120 exceeds number 108 of patternsWarning message:\n",
      "In knn(train = val_train[, 1:4], test = val_set[, 1:4], cl = val_train[, : k = 120 exceeds number 108 of patternsWarning message:\n",
      "In knn(train = val_train[, 1:4], test = val_set[, 1:4], cl = val_train[, : k = 120 exceeds number 108 of patternsWarning message:\n",
      "In knn(train = val_train[, 1:4], test = val_set[, 1:4], cl = val_train[, : k = 120 exceeds number 108 of patternsWarning message:\n",
      "In knn(train = val_train[, 1:4], test = val_set[, 1:4], cl = val_train[, : k = 120 exceeds number 108 of patternsWarning message:\n",
      "In knn(train = val_train[, 1:4], test = val_set[, 1:4], cl = val_train[, : k = 120 exceeds number 108 of patternsWarning message:\n",
      "In knn(train = val_train[, 1:4], test = val_set[, 1:4], cl = val_train[, : k = 120 exceeds number 108 of patterns"
     ]
    },
    {
     "data": {
      "image/png": "[encoded data removed]",
      "text/plain": [
       "Plot with title \"10-fold cross validation accuracies for diff k\""
      ]
     },
     "metadata": {
      "image/svg+xml": {
       "isolated": true
      }
     },
     "output_type": "display_data"
    },
    {
     "data": {
      "image/png": "[encoded data removed]",
      "text/plain": [
       "Plot with title \"leave-one-out validation accuracies for diff k\""
      ]
     },
     "metadata": {
      "image/svg+xml": {
       "isolated": true
      }
     },
     "output_type": "display_data"
    }
   ],
   "source": [
    "#Step 4 Select parameter value that is most robust ( by first plotting validation accuracies over different parameters)\n",
    "plot(sapply(c(1:nrow(train)), kfoldknn), type ='b', main = \"10-fold cross validation accuracies for diff k\")\n",
    "plot(acc,type= 'b', main = \"leave-one-out validation accuracies for diff k\")\n",
    "\n",
    "# doesn't work for jupiter that well so will show on RSTUDIO!\n"
   ]
  },
  {
   "cell_type": "markdown",
   "metadata": {},
   "source": [
    "### Why does the plot look like this??"
   ]
  },
  {
   "cell_type": "code",
   "execution_count": 20,
   "metadata": {
    "collapsed": false
   },
   "outputs": [
    {
     "data": {
      "text/html": [
       "0.9"
      ],
      "text/latex": [
       "0.9"
      ],
      "text/markdown": [
       "0.9"
      ],
      "text/plain": [
       "[1] 0.9"
      ]
     },
     "metadata": {},
     "output_type": "display_data"
    },
    {
     "data": {
      "image/png": "[encoded data removed]",
      "text/plain": [
       "plot without title"
      ]
     },
     "metadata": {
      "image/svg+xml": {
       "isolated": true
      }
     },
     "output_type": "display_data"
    }
   ],
   "source": [
    "mean(knn(train = train[,1:4], test = test[,1:4], cl = train[,5], k = 10)==test[,5])\n",
    "\n",
    "plot(sapply(c(1:nrow(train)), FUN = function(X){\n",
    "mean(knn(train = train[,1:4], test = test[,1:4], cl = train[,5], k = X) == test[,5])}), type = 'b')"
   ]
  }
 ],
 "metadata": {
  "kernelspec": {
   "display_name": "R",
   "language": "R",
   "name": "ir"
  },
  "language_info": {
   "codemirror_mode": "r",
   "file_extension": ".r",
   "mimetype": "text/x-r-source",
   "name": "R",
   "pygments_lexer": "r",
   "version": "3.3.1"
  }
 },
 "nbformat": 4,
 "nbformat_minor": 0
}
