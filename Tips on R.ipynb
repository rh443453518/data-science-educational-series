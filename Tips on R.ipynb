{
 "cells": [
  {
   "cell_type": "markdown",
   "metadata": {},
   "source": [
    "# Today's Topic\n",
    "\n",
    "### 1) R, its pros and cons\n",
    "\n",
    "### 2) R coding practices and time\n",
    "\n",
    "### 3) Apply functions in R\n",
    "\n",
    "### 4) Parallel Processing in R\n",
    "\n",
    "### 5) Useful packages in R (sqldf, dplyr, ggplot2)"
   ]
  },
  {
   "cell_type": "markdown",
   "metadata": {},
   "source": [
    "### 1. The Pros  \n",
    "\n",
    "1) The large, vibrant R community. (with a strong base in academia)\n",
    "\n",
    "2) Visualization packages (ggvis, ggplot2, googlevis, rcharts) \n",
    "\n",
    "3) Easy to start learning even with little programming background\n",
    "\n",
    "4) Ideal for individual servers and data analysis  \n",
    "\n",
    "5) Once a certain skill level is achieved, very powerful code can be achieved through few lines of code\n",
    "\n",
    "\n",
    "### 2. The Cons (although rather misunderstood)  \n",
    "\n",
    "1) Computationally limited speed \n",
    "\n",
    "2) Steep Learning Curve ( can be a lot of googling )\n",
    "\n"
   ]
  },
  {
   "cell_type": "markdown",
   "metadata": {},
   "source": [
    "# Ways of Getting Around the Cons \n",
    "\n",
    "\n",
    "## 1. Code better!  \n",
    "a) Avoid for loops! (well, for certain obvious cases!)   \n",
    "b) Avoid populating arguments in functions that don't require populating  \n",
    "c) UTILIZE VECTORIZATION!  \n",
    "d) Avoid unnecessary ()s\n",
    "e) If possible use matrices instead of data.frames for intensive calculations\n",
    "\n",
    "   \n",
    "## 2. Use R-spinoffs if speed is your priority\n",
    "a) PQR (pretty quick R)    \n",
    "b) RENJIN  \n",
    "   \n",
    "## 3. Use alongside other languages\n",
    "a) MATLAB is extremely fast in terms of matrix calculations  \n",
    "b) Python is useful too! (Panda, sklearn)  \n",
    "c) JUPYTER is a nice way to use multiple languages  \n",
    "\n",
    "## 4. Use parallel processing features on R\n",
    "a) R uses one core by default  \n",
    "b) If \"embarassingly parallel\" then multithreading is a good option  \n",
    "c) specific packages \"Parallel\"  \n",
    "\n",
    "## 5. Get better hardware\n",
    "a) Larger memory ( since R requires storage in physical memory)  \n",
    "b) Better processor"
   ]
  },
  {
   "cell_type": "markdown",
   "metadata": {},
   "source": [
    "\n",
    "## Performance is very important in coding, especially when dealing with large data\n"
   ]
  },
  {
   "cell_type": "code",
   "execution_count": null,
   "metadata": {
    "collapsed": true
   },
   "outputs": [],
   "source": [
    "# UPDATE your R! 3.3.2 was released on the 31st of October\n",
    "# Copy over to your RStudio or R Gui\n",
    "\n",
    "install.packages(\"installr\",repos = 'http://cran.us.r-project.org')\n",
    "library(installr)\n",
    "updateR()\n"
   ]
  },
  {
   "cell_type": "code",
   "execution_count": 6,
   "metadata": {
    "collapsed": false
   },
   "outputs": [
    {
     "data": {
      "text/html": [
       "<table>\n",
       "<thead><tr><th scope=col>x</th><th scope=col></th><th scope=col></th><th scope=col></th><th scope=col></th><th scope=col></th><th scope=col></th><th scope=col></th><th scope=col></th><th scope=col></th></tr></thead>\n",
       "<tbody>\n",
       "\t<tr><td> 1</td><td> 2</td><td> 3</td><td> 4</td><td> 5</td><td> 6</td><td> 7</td><td> 8</td><td> 9</td><td>10</td></tr>\n",
       "\t<tr><td> 2</td><td> 3</td><td> 4</td><td> 5</td><td> 6</td><td> 7</td><td> 8</td><td> 9</td><td>10</td><td>11</td></tr>\n",
       "\t<tr><td> 3</td><td> 4</td><td> 5</td><td> 6</td><td> 7</td><td> 8</td><td> 9</td><td>10</td><td>11</td><td>12</td></tr>\n",
       "\t<tr><td> 4</td><td> 5</td><td> 6</td><td> 7</td><td> 8</td><td> 9</td><td>10</td><td>11</td><td>12</td><td>13</td></tr>\n",
       "\t<tr><td> 5</td><td> 6</td><td> 7</td><td> 8</td><td> 9</td><td>10</td><td>11</td><td>12</td><td>13</td><td>14</td></tr>\n",
       "\t<tr><td> 6</td><td> 7</td><td> 8</td><td> 9</td><td>10</td><td>11</td><td>12</td><td>13</td><td>14</td><td>15</td></tr>\n",
       "</tbody>\n",
       "</table>\n"
      ],
      "text/latex": [
       "\\begin{tabular}{llllllllll}\n",
       " x &  &  &  &  &  &  &  &  & \\\\\n",
       "\\hline\n",
       "\t  1 &  2 &  3 &  4 &  5 &  6 &  7 &  8 &  9 & 10\\\\\n",
       "\t  2 &  3 &  4 &  5 &  6 &  7 &  8 &  9 & 10 & 11\\\\\n",
       "\t  3 &  4 &  5 &  6 &  7 &  8 &  9 & 10 & 11 & 12\\\\\n",
       "\t  4 &  5 &  6 &  7 &  8 &  9 & 10 & 11 & 12 & 13\\\\\n",
       "\t  5 &  6 &  7 &  8 &  9 & 10 & 11 & 12 & 13 & 14\\\\\n",
       "\t  6 &  7 &  8 &  9 & 10 & 11 & 12 & 13 & 14 & 15\\\\\n",
       "\\end{tabular}\n"
      ],
      "text/markdown": [
       "1. 1\n",
       "2. 2\n",
       "3. 3\n",
       "4. 4\n",
       "5. 5\n",
       "6. 6\n",
       "7. 2\n",
       "8. 3\n",
       "9. 4\n",
       "10. 5\n",
       "11. 6\n",
       "12. 7\n",
       "13. 3\n",
       "14. 4\n",
       "15. 5\n",
       "16. 6\n",
       "17. 7\n",
       "18. 8\n",
       "19. 4\n",
       "20. 5\n",
       "21. 6\n",
       "22. 7\n",
       "23. 8\n",
       "24. 9\n",
       "25. 5\n",
       "26. 6\n",
       "27. 7\n",
       "28. 8\n",
       "29. 9\n",
       "30. 10\n",
       "31. 6\n",
       "32. 7\n",
       "33. 8\n",
       "34. 9\n",
       "35. 10\n",
       "36. 11\n",
       "37. 7\n",
       "38. 8\n",
       "39. 9\n",
       "40. 10\n",
       "41. 11\n",
       "42. 12\n",
       "43. 8\n",
       "44. 9\n",
       "45. 10\n",
       "46. 11\n",
       "47. 12\n",
       "48. 13\n",
       "49. 9\n",
       "50. 10\n",
       "51. 11\n",
       "52. 12\n",
       "53. 13\n",
       "54. 14\n",
       "55. 10\n",
       "56. 11\n",
       "57. 12\n",
       "58. 13\n",
       "59. 14\n",
       "60. 15\n",
       "\n",
       "\n"
      ],
      "text/plain": [
       "     x                        \n",
       "[1,] 1 2 3 4  5  6  7  8  9 10\n",
       "[2,] 2 3 4 5  6  7  8  9 10 11\n",
       "[3,] 3 4 5 6  7  8  9 10 11 12\n",
       "[4,] 4 5 6 7  8  9 10 11 12 13\n",
       "[5,] 5 6 7 8  9 10 11 12 13 14\n",
       "[6,] 6 7 8 9 10 11 12 13 14 15"
      ]
     },
     "metadata": {},
     "output_type": "display_data"
    }
   ],
   "source": [
    "library(parallel)\n",
    "# Example of a simple numerical computation done on a matrix\n",
    "create <- function(x){\n",
    "  x <- vector(mode = \"numeric\", length = 100000)\n",
    "  x <- c(1:100000)\n",
    "  x <- cbind(x,x+1,x+2,x+3,x+4,x+5,x+6,x+7,x+8,x+9)\n",
    "  return(x)\n",
    "}\n",
    "\n",
    "head(create(x))"
   ]
  },
  {
   "cell_type": "code",
   "execution_count": 7,
   "metadata": {
    "collapsed": false
   },
   "outputs": [
    {
     "data": {
      "text/plain": [
       "   user  system elapsed \n",
       "   2.66    0.00    2.65 "
      ]
     },
     "metadata": {},
     "output_type": "display_data"
    }
   ],
   "source": [
    "# Now let's see the performance of a simple for loop in R!\n",
    "# To traverse across all elements in a matrix, must have a nested for-loop\n",
    "\n",
    "x <- create(x)\n",
    "system.time(\n",
    "for(i in 1:dim(x)[1]){\n",
    "  for(j in 1:dim(x)[2]){\n",
    "    x[i,j] <- x[i,j]^10\n",
    "    }\n",
    "})\n",
    "rm(x)\n",
    "\n",
    "# Creates \"leftover\" variables, that is by default not a good coding practice\n",
    "# Need to remove variables\n",
    "rm(i,j)"
   ]
  },
  {
   "cell_type": "code",
   "execution_count": 8,
   "metadata": {
    "collapsed": false
   },
   "outputs": [
    {
     "data": {
      "text/plain": [
       "   user  system elapsed \n",
       "   0.06    0.03    0.09 "
      ]
     },
     "metadata": {},
     "output_type": "display_data"
    },
    {
     "data": {
      "text/plain": [
       "   user  system elapsed \n",
       "   0.84    0.00    0.92 "
      ]
     },
     "metadata": {},
     "output_type": "display_data"
    },
    {
     "data": {
      "text/plain": [
       "   user  system elapsed \n",
       "   2.49    0.02    2.55 "
      ]
     },
     "metadata": {},
     "output_type": "display_data"
    }
   ],
   "source": [
    "#Let's look at the apply functions. They basically do the same task, but what happens to the code?\n",
    "\n",
    "#apply function. (by column)\n",
    "x <- create(x)\n",
    "system.time( \n",
    "    x <- apply(x, 2, FUN = function(x){x^10}) \n",
    ")\n",
    "rm(x)\n",
    "\n",
    "#apply function (by row)\n",
    "x <- create(x)\n",
    "system.time(\n",
    "x <- apply(x, 1, FUN = function(x){x^10})\n",
    ")\n",
    "rm(x)\n",
    "\n",
    "#apply function by individual elements\n",
    "x <- create(x)\n",
    "system.time(\n",
    "x <- apply(x, c(1,2), FUN = function(x){x^10})\n",
    ")\n",
    "rm(x)"
   ]
  },
  {
   "cell_type": "code",
   "execution_count": 9,
   "metadata": {
    "collapsed": false
   },
   "outputs": [
    {
     "data": {
      "text/plain": [
       "   user  system elapsed \n",
       "    1.7     0.0     1.7 "
      ]
     },
     "metadata": {},
     "output_type": "display_data"
    },
    {
     "data": {
      "text/plain": [
       "   user  system elapsed \n",
       "   1.32    0.00    1.32 "
      ]
     },
     "metadata": {},
     "output_type": "display_data"
    }
   ],
   "source": [
    "#sapply, lapply, the children of the apply family\n",
    "\n",
    "#sapply\n",
    "x <- create(x)\n",
    "system.time(\n",
    "    x <- sapply(x, FUN = function(x){x^10})\n",
    ")\n",
    "rm(x)\n",
    "\n",
    "#lapply\n",
    "x <- create(x)\n",
    "system.time(\n",
    "    x <- lapply(x, FUN = function(x){x^10})\n",
    ")\n",
    "rm(x)"
   ]
  },
  {
   "cell_type": "code",
   "execution_count": null,
   "metadata": {
    "collapsed": true
   },
   "outputs": [],
   "source": [
    "#Parallel processing (advanced)\n",
    "x <- create(x)\n",
    "\n",
    "#Reading the number of cores and creating a cluster (may involve a firewall notification for initial run)\n",
    "n_core <- detectCores() -1\n",
    "cl <- makeCluster(n_core)\n",
    "\n",
    "system.time(\n",
    "    x <- parApply(cl = cl,x,2, FUN = function(x){x^10})\n",
    ")\n",
    "\n",
    "stopCluster(cl)\n",
    "rm(cl,n_core)"
   ]
  },
  {
   "cell_type": "markdown",
   "metadata": {},
   "source": [
    "## Why is the parApply() slower than Apply()?"
   ]
  },
  {
   "cell_type": "code",
   "execution_count": null,
   "metadata": {
    "collapsed": true
   },
   "outputs": [],
   "source": [
    "#Let's make the task a lot more computationally expensive!\n",
    "#non-parallel\n",
    "x <- create(x)\n",
    "system.time(\n",
    "    x <- apply(x, 2, FUN = function(x){median(median(rnorm(x^20))^median(x^(1/8)) * median(rexp(x^20)))^20})\n",
    ")\n",
    "rm(x)\n",
    "\n",
    "# parallel\n",
    "x <- create(x)\n",
    "n_core <- detectCores() -1\n",
    "cl <- makeCluster(n_core)\n",
    "\n",
    "system.time(\n",
    "    x <- parApply(cl = cl,x,2, FUN = function(x){median(median(rnorm(x^20))^median(x^(1/8)) * median(rexp(x^20)))^10})\n",
    ")\n",
    "stopCluster(cl)\n",
    "rm(cl,n_core)"
   ]
  },
  {
   "cell_type": "markdown",
   "metadata": {},
   "source": [
    "## In practice, system.time(), proc.time() are all sort of inaccurate  \n",
    "### 1. Every run will always differ depending on the state of your computer  \n",
    "### 2. Some calls will take on the scale of nano, micro seconds which cannot be seen with the above functions \n",
    "\n",
    "## Use microbenchmark instead! (will show in RStudio)"
   ]
  },
  {
   "cell_type": "markdown",
   "metadata": {},
   "source": [
    "## Additional Tips\n",
    "\n",
    "1) Don't use ifelse() if possible  \n",
    "2) Don't use additional brackets if you don't need to  \n",
    "2) Use .subset2 to access points in matrices"
   ]
  },
  {
   "cell_type": "code",
   "execution_count": null,
   "metadata": {
    "collapsed": true
   },
   "outputs": [],
   "source": [
    "# Let's explore different ways of accessing a data point\n",
    "x <- create(x)\n",
    "x <- as.data.frame(x)\n",
    "names(x) <- as.character(c(1:10))\n",
    "\n",
    "\n",
    "x[1,][2]         # access the first row, get the second element\n",
    "x[1,2]           # access in a matrix format (perhaps the most familiar)\n",
    "x[,2][1]         # access the second column, and then get the first element\n",
    "x$'2'[1]         # access the column named \"2\", and then get the first element\n",
    "x[[2]][1]        # get the 2nd column, get the first element\n",
    "x[['2']][1]      # get column named \"2\" get the first element\n",
    ".subset2(x,2)[1] # magic subset2 function, get 2nd column get first element\n",
    "\n",
    "# Let's see what's the fastest with microbenchmark!"
   ]
  },
  {
   "cell_type": "code",
   "execution_count": null,
   "metadata": {
    "collapsed": false
   },
   "outputs": [],
   "source": []
  }
 ],
 "metadata": {
  "anaconda-cloud": {},
  "kernelspec": {
   "display_name": "R",
   "language": "R",
   "name": "ir"
  },
  "language_info": {
   "codemirror_mode": "r",
   "file_extension": ".r",
   "mimetype": "text/x-r-source",
   "name": "R",
   "pygments_lexer": "r",
   "version": "3.3.1"
  }
 },
 "nbformat": 4,
 "nbformat_minor": 0
}
